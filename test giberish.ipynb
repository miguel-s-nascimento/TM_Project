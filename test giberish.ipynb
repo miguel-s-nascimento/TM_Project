{
 "cells": [
  {
   "cell_type": "code",
   "execution_count": 1,
   "metadata": {},
   "outputs": [],
   "source": [
    "import pandas as pd"
   ]
  },
  {
   "cell_type": "code",
   "execution_count": 8,
   "metadata": {},
   "outputs": [],
   "source": [
    "reviews=pd.read_csv('TM_Project\\\\data\\\\reviews.csv')"
   ]
  },
  {
   "cell_type": "code",
   "execution_count": 5,
   "metadata": {},
   "outputs": [],
   "source": [
    "from textblob import TextBlob"
   ]
  },
  {
   "cell_type": "code",
   "execution_count": 11,
   "metadata": {},
   "outputs": [
    {
     "data": {
      "text/plain": [
       "\"It's an absolute awesome experience.....gone with mom and she loved it.....Alam and around are a very good help vgood v go vgood vvvvvvvvvvvvv\""
      ]
     },
     "execution_count": 11,
     "metadata": {},
     "output_type": "execute_result"
    }
   ],
   "source": [
    "reviews['Review'][1472]"
   ]
  },
  {
   "cell_type": "code",
   "execution_count": 12,
   "metadata": {},
   "outputs": [
    {
     "data": {
      "text/plain": [
       "'gud'"
      ]
     },
     "execution_count": 12,
     "metadata": {},
     "output_type": "execute_result"
    }
   ],
   "source": [
    "reviews['Review'][1568]"
   ]
  },
  {
   "cell_type": "code",
   "execution_count": 13,
   "metadata": {},
   "outputs": [
    {
     "data": {
      "text/plain": [
       "'ntg'"
      ]
     },
     "execution_count": 13,
     "metadata": {},
     "output_type": "execute_result"
    }
   ],
   "source": [
    "reviews['Review'][4135]"
   ]
  },
  {
   "cell_type": "code",
   "execution_count": 14,
   "metadata": {},
   "outputs": [
    {
     "data": {
      "text/plain": [
       "'good good goodgoodgoodgood goodgoodgoodgoodgoodgoodgoodgoodgoodgoodgoodgoodgoodgoodgoodgoodgoodgoodgoodgoodgoodgoodgoodgoodgoodgoodgoodgoodgoodgoodgoodgoodgoodgood'"
      ]
     },
     "execution_count": 14,
     "metadata": {},
     "output_type": "execute_result"
    }
   ],
   "source": [
    "reviews['Review'][2337]\n"
   ]
  },
  {
   "cell_type": "code",
   "execution_count": 7,
   "metadata": {},
   "outputs": [],
   "source": [
    "def correct_spelling(review):\n",
    "    return str(TextBlob(review).correct())"
   ]
  },
  {
   "cell_type": "code",
   "execution_count": 15,
   "metadata": {},
   "outputs": [
    {
     "name": "stdout",
     "output_type": "stream",
     "text": [
      "It's an absolute awesome experience.....gone with mon and she loved it.....Slam and around are a very good help good v go good vvvvvvvvvvvvv\n",
      "god\n",
      "nag\n",
      "good good goodgoodgoodgood goodgoodgoodgoodgoodgoodgoodgoodgoodgoodgoodgoodgoodgoodgoodgoodgoodgoodgoodgoodgoodgoodgoodgoodgoodgoodgoodgoodgoodgoodgoodgoodgoodgood\n"
     ]
    }
   ],
   "source": [
    "for i in [1472, 1568,4135 ,2337]:\n",
    "    print(correct_spelling(reviews['Review'][i]))"
   ]
  },
  {
   "cell_type": "code",
   "execution_count": null,
   "metadata": {},
   "outputs": [],
   "source": [
    "pip install autocorrect"
   ]
  },
  {
   "cell_type": "code",
   "execution_count": 18,
   "metadata": {},
   "outputs": [
    {
     "name": "stdout",
     "output_type": "stream",
     "text": [
      "It's an absolute awesome experience.....gone with mom and she loved it.....Alam and around are a very good help good v go good vvvvvvvvvvvvv\n",
      "gun\n",
      "ng\n",
      "good good goodgoodgoodgood goodgoodgoodgoodgoodgoodgoodgoodgoodgoodgoodgoodgoodgoodgoodgoodgoodgoodgoodgoodgoodgoodgoodgoodgoodgoodgoodgoodgoodgoodgoodgoodgoodgood\n"
     ]
    }
   ],
   "source": [
    "from autocorrect import Speller\n",
    "spell = Speller()\n",
    "for i in [1472, 1568,4135 ,2337]:\n",
    "    print(spell(reviews['Review'][i]))"
   ]
  },
  {
   "cell_type": "code",
   "execution_count": 19,
   "metadata": {},
   "outputs": [],
   "source": [
    "import re\n",
    "import math\n",
    "\n",
    "\n",
    "def split_in_chunks(text, chunk_size):\n",
    "    chunks = []\n",
    "    for i in range(0, len(text), chunk_size):\n",
    "        chunks.append(text[i:i + chunk_size])\n",
    "    if len(chunks) > 1 and len(chunks[-1]) < 10:\n",
    "        chunks[-2] += chunks[-1]\n",
    "        chunks.pop(-1)\n",
    "    return chunks\n",
    "\n",
    "\n",
    "def unique_chars_per_chunk_percentage(text, chunk_size):\n",
    "    chunks = split_in_chunks(text, chunk_size)\n",
    "    unique_chars_percentages = []\n",
    "    for chunk in chunks:\n",
    "        total = len(chunk)\n",
    "        unique = len(set(chunk))\n",
    "        unique_chars_percentages.append(unique / total)\n",
    "    return sum(unique_chars_percentages) / len(unique_chars_percentages) * 100\n",
    "\n",
    "\n",
    "def vowels_percentage(text):\n",
    "    vowels = 0\n",
    "    total = 0\n",
    "    for c in text:\n",
    "        if not c.isalpha():\n",
    "            continue\n",
    "        total += 1\n",
    "        if c in \"aeiouAEIOU\":\n",
    "            vowels += 1\n",
    "    if total != 0:\n",
    "        return vowels / total * 100\n",
    "    else:\n",
    "        return 0\n",
    "\n",
    "\n",
    "def word_to_char_ratio(text):\n",
    "    chars = len(text)\n",
    "    words = len([x for x in re.split(r\"[\\W_]\", text) if x.strip() != \"\"])\n",
    "    return words / chars * 100\n",
    "\n",
    "\n",
    "def deviation_score(percentage, lower_bound, upper_bound):\n",
    "    if percentage < lower_bound:\n",
    "        return math.log(lower_bound - percentage, lower_bound) * 100\n",
    "    elif percentage > upper_bound:\n",
    "        return math.log(percentage - upper_bound, 100 - upper_bound) * 100\n",
    "    else:\n",
    "        return 0\n",
    "\n",
    "\n",
    "def classify(text):\n",
    "    if text is None or len(text) == 0:\n",
    "        return 0.0\n",
    "    ucpcp = unique_chars_per_chunk_percentage(text, 35)\n",
    "    vp = vowels_percentage(text)\n",
    "    wtcr = word_to_char_ratio(text)\n",
    "\n",
    "    ucpcp_dev = max(deviation_score(ucpcp, 45, 50), 1)\n",
    "    vp_dev = max(deviation_score(vp, 35, 45), 1)\n",
    "    wtcr_dev = max(deviation_score(wtcr, 15, 20), 1)\n",
    "\n",
    "    return max((math.log10(ucpcp_dev) + math.log10(vp_dev) +\n",
    "                math.log10(wtcr_dev)) / 6 * 100, 1)"
   ]
  },
  {
   "cell_type": "code",
   "execution_count": 22,
   "metadata": {},
   "outputs": [],
   "source": [
    "reviews['Gibberish Score'] = reviews['Review'].apply(lambda x: classify(str(x)))"
   ]
  },
  {
   "cell_type": "code",
   "execution_count": 33,
   "metadata": {},
   "outputs": [
    {
     "data": {
      "text/plain": [
       "count    10000.000000\n",
       "mean        16.963934\n",
       "std         22.688033\n",
       "min          1.000000\n",
       "25%          1.000000\n",
       "50%          1.000000\n",
       "75%         25.999670\n",
       "max        100.000000\n",
       "Name: Gibberish Score, dtype: float64"
      ]
     },
     "execution_count": 33,
     "metadata": {},
     "output_type": "execute_result"
    }
   ],
   "source": [
    "reviews['Gibberish Score'].describe()"
   ]
  },
  {
   "cell_type": "code",
   "execution_count": null,
   "metadata": {},
   "outputs": [],
   "source": [
    "import re\n",
    "import math\n",
    "\n",
    "\n",
    "def split_in_chunks(text, chunk_size):\n",
    "    chunks = []\n",
    "    for i in range(0, len(text), chunk_size):\n",
    "        chunks.append(text[i:i + chunk_size])\n",
    "    if len(chunks) > 1 and len(chunks[-1]) < 10:\n",
    "        chunks[-2] += chunks[-1]\n",
    "        chunks.pop(-1)\n",
    "    return chunks\n",
    "\n",
    "\n",
    "def unique_chars_per_chunk_percentage(text, chunk_size):\n",
    "    chunks = split_in_chunks(text, chunk_size)\n",
    "    unique_chars_percentages = []\n",
    "    for chunk in chunks:\n",
    "        total = len(chunk)\n",
    "        unique = len(set(chunk))\n",
    "        unique_chars_percentages.append(unique / total)\n",
    "    return sum(unique_chars_percentages) / len(unique_chars_percentages) * 100\n",
    "\n",
    "\n",
    "def vowels_percentage(text):\n",
    "    vowels = 0\n",
    "    total = 0\n",
    "    for c in text:\n",
    "        if not c.isalpha():\n",
    "            continue\n",
    "        total += 1\n",
    "        if c in \"aeiouAEIOU\":\n",
    "            vowels += 1\n",
    "    if total != 0:\n",
    "        return vowels / total * 100\n",
    "    else:\n",
    "        return 0\n",
    "\n",
    "\n",
    "def word_to_char_ratio(text):\n",
    "    chars = len(text)\n",
    "    words = len([x for x in re.split(r\"[\\W_]\", text) if x.strip() != \"\"])\n",
    "    return words / chars * 100\n",
    "\n",
    "\n",
    "def deviation_score(percentage, lower_bound, upper_bound):\n",
    "    if percentage < lower_bound:\n",
    "        return math.log(lower_bound - percentage, lower_bound) * 100\n",
    "    elif percentage > upper_bound:\n",
    "        return math.log(percentage - upper_bound, 100 - upper_bound) * 100\n",
    "    else:\n",
    "        return 0\n",
    "\n",
    "\n",
    "def classify(text):\n",
    "    if text is None or len(text) == 0:\n",
    "        return 0.0\n",
    "    ucpcp = unique_chars_per_chunk_percentage(text, 35)\n",
    "    vp = vowels_percentage(text)\n",
    "    wtcr = word_to_char_ratio(text)\n",
    "\n",
    "    ucpcp_dev = max(deviation_score(ucpcp, 45, 50), 1)\n",
    "    vp_dev = max(deviation_score(vp, 35, 45), 1)\n",
    "    wtcr_dev = max(deviation_score(wtcr, 15, 20), 1)\n",
    "\n",
    "    return max((math.log10(ucpcp_dev) + math.log10(vp_dev) +\n",
    "                math.log10(wtcr_dev)) / 6 * 100, 1)"
   ]
  },
  {
   "cell_type": "code",
   "execution_count": 35,
   "metadata": {},
   "outputs": [],
   "source": [
    "pd.set_option('display.max_colwidth', None)"
   ]
  },
  {
   "cell_type": "code",
   "execution_count": 36,
   "metadata": {},
   "outputs": [
    {
     "name": "stdout",
     "output_type": "stream",
     "text": [
      "0            The ambience was good, food was quite good . had Saturday lunch , which was cost effective .\\r\\nGood place for a sate brunch. One can also chill with friends and or parents.\\r\\nWaiter Soumen Das was really courteous and helpful.\n",
      "2                                                   A must try.. great food great ambience. Thnx for the service by Pradeep and Subroto. My personal recommendation is Penne Alfredo Pasta:) ....... Also the music in the background is amazing.\n",
      "10                                                                            The service was great and the food was awesome. The service staff Manab and Papiya were very courteous and attentive. I would like to come frequently to this place\n",
      "25                                                                                    The place is very good.. 5* to the live music.. She is just superb with beautiful voice.. Food is nice n loved the lightning..😍entrance is also very nice..\n",
      "31                                                                            Excellent food and very good service by soumen das..\\r\\nAmbience was good too with live music. Food was served timely. Decor of the restaurant was amazing as well.\n",
      "                                                                                                                          ...                                                                                                                    \n",
      "9916    Feel good place to dine with your family and friends along with having amazing Chinese food and desserts especially cheesecake!!!\\r\\nSophisticated ambience\\r\\nvery Polite staff\\r\\nGreat place for Chinese food lovers\\r\\nElegant decor.\n",
      "9926            One of the best Chinese restaurants in Hyderabad !\\r\\nLove their ambience, service and obviously the food :)\\r\\nEspecially their Chicken dry red chilli starter with Egg fried rice.. truly amazing. Keep up the good work guys..\n",
      "9955                                 Good food.\\r\\nSpecially try chicken banana leaf, thats nice.\\r\\nOverall good place to eat, may not be that great ambience. Staff are good and responds well.\\r\\nIf you like chinese, try this place as well.\n",
      "9959                                                                              Been here multiple times, and Good food, ambience is unique and classy. Service is prompt and courteous. Will recommend highly, and definitely come back again.\n",
      "9962                                                                              Really loved the ambience. Staff was very polite. Very delicious food served quickly though it was busy. But very expensive when compared to other restaurants.\n",
      "Name: Review, Length: 2500, dtype: object\n"
     ]
    }
   ],
   "source": [
    "print(reviews[reviews['Gibberish Score']>26]['Review'])"
   ]
  }
 ],
 "metadata": {
  "kernelspec": {
   "display_name": "Python 3",
   "language": "python",
   "name": "python3"
  },
  "language_info": {
   "codemirror_mode": {
    "name": "ipython",
    "version": 3
   },
   "file_extension": ".py",
   "mimetype": "text/x-python",
   "name": "python",
   "nbconvert_exporter": "python",
   "pygments_lexer": "ipython3",
   "version": "3.10.9"
  }
 },
 "nbformat": 4,
 "nbformat_minor": 2
}
