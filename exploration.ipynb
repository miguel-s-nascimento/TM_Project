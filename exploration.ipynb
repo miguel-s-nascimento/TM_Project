{
 "cells": [
  {
   "cell_type": "markdown",
   "metadata": {},
   "source": [
    "<i>## Comments will be provided using this format. Key takeaway: groups are encouraged to change the formatting, but not the structure. Groups are also allowed to create additional notebooks - for instance, create one notebook for data exploration, and one notebook for each preprocessing-modelling-evaluation pipeline -, but must strive to keep an unified style across notebooks.</i>\n",
    "\n",
    "#### NOVA IMS / BSc in Data Science / Text Mining 2024/2025\n",
    "### <b>Group Project: \"Solving the Hyderabadi Word Soup\"</b>\n",
    "#### Notebook `Notebook Title`\n",
    "\n",
    "#### Group:\n",
    "- `Group member #1`\n",
    "- `(...)`\n",
    "- `Group member #5`\n",
    "\n",
    "#### <font color='#BFD72'>Table of Contents </font> <a class=\"anchor\" id='toc'></a> \n",
    "- [1. Data Understanding](#P1)\n",
    "- [2. General Data Preparation](#P2) \n",
    "- [3. Multilabel Classification (Information Requirement 3311)](#P3)\n",
    "    - [3.1 Specific Data Preparation](#P31)\n",
    "    - [3.2 Model Implementation](#P32)\n",
    "    - [3.3 Model Evaluation](#P3n)\n",
    "- [4. Sentiment Analysis (Information Requirement 3312)](#P4)\n",
    "    - [4.1 Specific Data Preparation](#P41)\n",
    "    - [4.2 Model Implementation](#P42)\n",
    "    - [4.3 Model Evaluation](#P43)\n",
    "- [...]\n",
    "- [N. Additional Tasks (Information Requirements 332n)](#Pn)\n",
    "    - [N.1 Specific Data Preparation](#Pn1)\n",
    "    - [N.2 Model Implementation](#Pn2)\n",
    "    - [N.3 Model Evaluation](#Pn3)\n",
    "\n",
    "<i>## Note that the notebook structure differs from the report: instead of following the CRISP-DM phases and then specifying the different problems inside the phases, the notebook is structured by problem, with the CRISP-DM phases being defined for each specific problem."
   ]
  },
  {
   "cell_type": "code",
   "execution_count": 42,
   "metadata": {},
   "outputs": [],
   "source": [
    "## All imports must be concentrated on a cell that immediately follow the table of contents\n",
    "import math\n",
    "import time\n",
    "import pandas as pd\n",
    "import numpy as np\n",
    "import matplotlib.pyplot as plt\n",
    "\n",
    "from utils import *\n",
    "\n",
    "#without truncation\n",
    "pd.set_option('display.max_colwidth', None)"
   ]
  },
  {
   "cell_type": "code",
   "execution_count": 40,
   "metadata": {},
   "outputs": [],
   "source": [
    "%reload_ext autoreload\n",
    "%autoreload 2"
   ]
  },
  {
   "cell_type": "markdown",
   "metadata": {},
   "source": [
    "<font color='#BFD72F' size=5>1. Data Understanding</font> <a class=\"anchor\" id=\"P1\"></a>\n",
    "  \n",
    "[Back to TOC](#toc)\n",
    "\n",
    "<i>## Imports.</i>"
   ]
  },
  {
   "cell_type": "code",
   "execution_count": 12,
   "metadata": {},
   "outputs": [],
   "source": [
    "reviews=pd.read_csv('data/reviews_initial_preproc.csv')\n",
    "restaurants=pd.read_csv('data/restaurants_initial_preproc.csv') \n",
    "restaurants['Collections'].fillna('[]', inplace=True)\n",
    "restaurants['Collections'] = restaurants['Collections'].apply(lambda x: eval(x))\n",
    "restaurants['Cuisines'] = restaurants['Cuisines'].apply(lambda x: eval(x))"
   ]
  },
  {
   "cell_type": "markdown",
   "metadata": {},
   "source": [
    "## Restaurant data exploration\n"
   ]
  },
  {
   "cell_type": "code",
   "execution_count": 13,
   "metadata": {},
   "outputs": [
    {
     "data": {
      "text/html": [
       "<div>\n",
       "<style scoped>\n",
       "    .dataframe tbody tr th:only-of-type {\n",
       "        vertical-align: middle;\n",
       "    }\n",
       "\n",
       "    .dataframe tbody tr th {\n",
       "        vertical-align: top;\n",
       "    }\n",
       "\n",
       "    .dataframe thead th {\n",
       "        text-align: right;\n",
       "    }\n",
       "</style>\n",
       "<table border=\"1\" class=\"dataframe\">\n",
       "  <thead>\n",
       "    <tr style=\"text-align: right;\">\n",
       "      <th></th>\n",
       "      <th>Name</th>\n",
       "      <th>Cost</th>\n",
       "      <th>Collections</th>\n",
       "      <th>Cuisines</th>\n",
       "      <th>N_collections</th>\n",
       "      <th>open time</th>\n",
       "      <th>closing time</th>\n",
       "    </tr>\n",
       "  </thead>\n",
       "  <tbody>\n",
       "    <tr>\n",
       "      <th>0</th>\n",
       "      <td>Beyond Flavours</td>\n",
       "      <td>800</td>\n",
       "      <td>[Food Hygiene Rated Restaurants in Hyderabad, Corporate Favorites, Great Buffets, Top-Rated, Gold Curated, Live Sports Screenings]</td>\n",
       "      <td>[Chinese, Continental, Kebab, European, South Indian, North Indian]</td>\n",
       "      <td>6</td>\n",
       "      <td>12</td>\n",
       "      <td>23</td>\n",
       "    </tr>\n",
       "    <tr>\n",
       "      <th>1</th>\n",
       "      <td>Paradise</td>\n",
       "      <td>800</td>\n",
       "      <td>[Hyderabad's Hottest]</td>\n",
       "      <td>[Biryani, North Indian, Chinese]</td>\n",
       "      <td>1</td>\n",
       "      <td>11</td>\n",
       "      <td>23</td>\n",
       "    </tr>\n",
       "    <tr>\n",
       "      <th>2</th>\n",
       "      <td>Flechazo</td>\n",
       "      <td>1300</td>\n",
       "      <td>[Great Buffets, Hyderabad's Hottest]</td>\n",
       "      <td>[Asian, Mediterranean, North Indian, Desserts]</td>\n",
       "      <td>2</td>\n",
       "      <td>11</td>\n",
       "      <td>23</td>\n",
       "    </tr>\n",
       "    <tr>\n",
       "      <th>3</th>\n",
       "      <td>Shah Ghouse Hotel &amp; Restaurant</td>\n",
       "      <td>800</td>\n",
       "      <td>[Late Night Restaurants]</td>\n",
       "      <td>[Biryani, North Indian, Chinese, Seafood, Beverages]</td>\n",
       "      <td>1</td>\n",
       "      <td>12</td>\n",
       "      <td>2</td>\n",
       "    </tr>\n",
       "    <tr>\n",
       "      <th>4</th>\n",
       "      <td>Over The Moon Brew Company</td>\n",
       "      <td>1200</td>\n",
       "      <td>[Best Bars &amp; Pubs, Food Hygiene Rated Restaurants in Hyderabad, Top-Rated, Gold Curated, Hyderabad's Hottest]</td>\n",
       "      <td>[Asian, Continental, North Indian, Chinese, Mediterranean]</td>\n",
       "      <td>5</td>\n",
       "      <td>12</td>\n",
       "      <td>24</td>\n",
       "    </tr>\n",
       "  </tbody>\n",
       "</table>\n",
       "</div>"
      ],
      "text/plain": [
       "                             Name  Cost  \\\n",
       "0                 Beyond Flavours   800   \n",
       "1                        Paradise   800   \n",
       "2                        Flechazo  1300   \n",
       "3  Shah Ghouse Hotel & Restaurant   800   \n",
       "4      Over The Moon Brew Company  1200   \n",
       "\n",
       "                                                                                                                          Collections  \\\n",
       "0  [Food Hygiene Rated Restaurants in Hyderabad, Corporate Favorites, Great Buffets, Top-Rated, Gold Curated, Live Sports Screenings]   \n",
       "1                                                                                                               [Hyderabad's Hottest]   \n",
       "2                                                                                                [Great Buffets, Hyderabad's Hottest]   \n",
       "3                                                                                                            [Late Night Restaurants]   \n",
       "4                       [Best Bars & Pubs, Food Hygiene Rated Restaurants in Hyderabad, Top-Rated, Gold Curated, Hyderabad's Hottest]   \n",
       "\n",
       "                                                              Cuisines  \\\n",
       "0  [Chinese, Continental, Kebab, European, South Indian, North Indian]   \n",
       "1                                     [Biryani, North Indian, Chinese]   \n",
       "2                       [Asian, Mediterranean, North Indian, Desserts]   \n",
       "3                 [Biryani, North Indian, Chinese, Seafood, Beverages]   \n",
       "4           [Asian, Continental, North Indian, Chinese, Mediterranean]   \n",
       "\n",
       "   N_collections  open time  closing time  \n",
       "0              6         12            23  \n",
       "1              1         11            23  \n",
       "2              2         11            23  \n",
       "3              1         12             2  \n",
       "4              5         12            24  "
      ]
     },
     "execution_count": 13,
     "metadata": {},
     "output_type": "execute_result"
    }
   ],
   "source": [
    "restaurants.head()"
   ]
  },
  {
   "cell_type": "code",
   "execution_count": 14,
   "metadata": {},
   "outputs": [
    {
     "name": "stdout",
     "output_type": "stream",
     "text": [
      "<class 'pandas.core.frame.DataFrame'>\n",
      "RangeIndex: 105 entries, 0 to 104\n",
      "Data columns (total 7 columns):\n",
      " #   Column         Non-Null Count  Dtype \n",
      "---  ------         --------------  ----- \n",
      " 0   Name           105 non-null    object\n",
      " 1   Cost           105 non-null    int64 \n",
      " 2   Collections    105 non-null    object\n",
      " 3   Cuisines       105 non-null    object\n",
      " 4   N_collections  105 non-null    int64 \n",
      " 5   open time      105 non-null    int64 \n",
      " 6   closing time   105 non-null    int64 \n",
      "dtypes: int64(4), object(3)\n",
      "memory usage: 5.9+ KB\n"
     ]
    }
   ],
   "source": [
    "restaurants.info()"
   ]
  },
  {
   "cell_type": "code",
   "execution_count": 15,
   "metadata": {},
   "outputs": [
    {
     "data": {
      "text/html": [
       "<div>\n",
       "<style scoped>\n",
       "    .dataframe tbody tr th:only-of-type {\n",
       "        vertical-align: middle;\n",
       "    }\n",
       "\n",
       "    .dataframe tbody tr th {\n",
       "        vertical-align: top;\n",
       "    }\n",
       "\n",
       "    .dataframe thead th {\n",
       "        text-align: right;\n",
       "    }\n",
       "</style>\n",
       "<table border=\"1\" class=\"dataframe\">\n",
       "  <thead>\n",
       "    <tr style=\"text-align: right;\">\n",
       "      <th></th>\n",
       "      <th>Cost</th>\n",
       "      <th>N_collections</th>\n",
       "      <th>open time</th>\n",
       "      <th>closing time</th>\n",
       "    </tr>\n",
       "  </thead>\n",
       "  <tbody>\n",
       "    <tr>\n",
       "      <th>count</th>\n",
       "      <td>105.000000</td>\n",
       "      <td>105.000000</td>\n",
       "      <td>105.000000</td>\n",
       "      <td>105.000000</td>\n",
       "    </tr>\n",
       "    <tr>\n",
       "      <th>mean</th>\n",
       "      <td>861.428571</td>\n",
       "      <td>1.009524</td>\n",
       "      <td>11.028571</td>\n",
       "      <td>18.971429</td>\n",
       "    </tr>\n",
       "    <tr>\n",
       "      <th>std</th>\n",
       "      <td>510.149730</td>\n",
       "      <td>1.451095</td>\n",
       "      <td>2.826581</td>\n",
       "      <td>8.471056</td>\n",
       "    </tr>\n",
       "    <tr>\n",
       "      <th>min</th>\n",
       "      <td>150.000000</td>\n",
       "      <td>0.000000</td>\n",
       "      <td>1.000000</td>\n",
       "      <td>1.000000</td>\n",
       "    </tr>\n",
       "    <tr>\n",
       "      <th>25%</th>\n",
       "      <td>500.000000</td>\n",
       "      <td>0.000000</td>\n",
       "      <td>11.000000</td>\n",
       "      <td>22.000000</td>\n",
       "    </tr>\n",
       "    <tr>\n",
       "      <th>50%</th>\n",
       "      <td>700.000000</td>\n",
       "      <td>0.000000</td>\n",
       "      <td>12.000000</td>\n",
       "      <td>23.000000</td>\n",
       "    </tr>\n",
       "    <tr>\n",
       "      <th>75%</th>\n",
       "      <td>1200.000000</td>\n",
       "      <td>1.000000</td>\n",
       "      <td>12.000000</td>\n",
       "      <td>23.000000</td>\n",
       "    </tr>\n",
       "    <tr>\n",
       "      <th>max</th>\n",
       "      <td>2800.000000</td>\n",
       "      <td>7.000000</td>\n",
       "      <td>24.000000</td>\n",
       "      <td>24.000000</td>\n",
       "    </tr>\n",
       "  </tbody>\n",
       "</table>\n",
       "</div>"
      ],
      "text/plain": [
       "              Cost  N_collections   open time  closing time\n",
       "count   105.000000     105.000000  105.000000    105.000000\n",
       "mean    861.428571       1.009524   11.028571     18.971429\n",
       "std     510.149730       1.451095    2.826581      8.471056\n",
       "min     150.000000       0.000000    1.000000      1.000000\n",
       "25%     500.000000       0.000000   11.000000     22.000000\n",
       "50%     700.000000       0.000000   12.000000     23.000000\n",
       "75%    1200.000000       1.000000   12.000000     23.000000\n",
       "max    2800.000000       7.000000   24.000000     24.000000"
      ]
     },
     "execution_count": 15,
     "metadata": {},
     "output_type": "execute_result"
    }
   ],
   "source": [
    "restaurants.describe()"
   ]
  },
  {
   "cell_type": "code",
   "execution_count": 16,
   "metadata": {},
   "outputs": [
    {
     "data": {
      "text/plain": [
       "105"
      ]
     },
     "execution_count": 16,
     "metadata": {},
     "output_type": "execute_result"
    }
   ],
   "source": [
    "#there is no restaunt duplicates\n",
    "restaurants['Name'].nunique()"
   ]
  },
  {
   "cell_type": "code",
   "execution_count": 17,
   "metadata": {},
   "outputs": [],
   "source": [
    "cuisines_exploded = restaurants['Cuisines'].explode().explode()\n",
    "collections_exploded = restaurants['Collections'].explode().explode()"
   ]
  },
  {
   "cell_type": "code",
   "execution_count": 18,
   "metadata": {},
   "outputs": [
    {
     "data": {
      "text/plain": [
       "\"restaurant_agg = restaurants_exploded.groupby(['Cuisines', 'Collections']).agg(\\n    total_cost=('Cost', 'mean'), # Sum of 'Cost'\\n    count=('Cost', 'count')     # Count of restaurants\\n)\\n\\n# Sort the result by 'total_cost' in descending order and get the top 10 rows\\nrestaurant_agg.sort_values(by='total_cost', ascending=False).head(10)\""
      ]
     },
     "execution_count": 18,
     "metadata": {},
     "output_type": "execute_result"
    }
   ],
   "source": [
    "\"\"\"restaurant_agg = restaurants_exploded.groupby(['Cuisines', 'Collections']).agg(\n",
    "    total_cost=('Cost', 'mean'), # Sum of 'Cost'\n",
    "    count=('Cost', 'count')     # Count of restaurants\n",
    ")\n",
    "\n",
    "# Sort the result by 'total_cost' in descending order and get the top 10 rows\n",
    "restaurant_agg.sort_values(by='total_cost', ascending=False).head(10)\"\"\""
   ]
  },
  {
   "cell_type": "code",
   "execution_count": 19,
   "metadata": {},
   "outputs": [
    {
     "data": {
      "text/plain": [
       "\"restaurants_exploded.groupby(['Collections']).agg(\\n    mean_cost=('Cost', 'mean'),   # Calculate the mean of 'Cost'\\n    count=('Cost', 'count') ).sort_values(by='mean_cost', ascending=False).head(5)\""
      ]
     },
     "execution_count": 19,
     "metadata": {},
     "output_type": "execute_result"
    }
   ],
   "source": [
    "\"\"\"restaurants_exploded.groupby(['Collections']).agg(\n",
    "    mean_cost=('Cost', 'mean'),   # Calculate the mean of 'Cost'\n",
    "    count=('Cost', 'count') ).sort_values(by='mean_cost', ascending=False).head(5)\"\"\""
   ]
  },
  {
   "cell_type": "code",
   "execution_count": 49,
   "metadata": {},
   "outputs": [
    {
     "data": {
      "image/png": "[encoded data removed]",
      "text/plain": [
       "<Figure size 800x500 with 1 Axes>"
      ]
     },
     "metadata": {},
     "output_type": "display_data"
    }
   ],
   "source": [
    "plot_top10_bar(cuisines_exploded)"
   ]
  },
  {
   "cell_type": "code",
   "execution_count": 48,
   "metadata": {},
   "outputs": [
    {
     "data": {
      "image/png": "[encoded data removed]",
      "text/plain": [
       "<Figure size 800x500 with 1 Axes>"
      ]
     },
     "metadata": {},
     "output_type": "display_data"
    }
   ],
   "source": [
    "plot_top10_bar(collections_exploded)"
   ]
  },
  {
   "cell_type": "markdown",
   "metadata": {},
   "source": [
    "## Reviews data exploration"
   ]
  },
  {
   "cell_type": "code",
   "execution_count": 22,
   "metadata": {},
   "outputs": [
    {
     "data": {
      "text/html": [
       "<div>\n",
       "<style scoped>\n",
       "    .dataframe tbody tr th:only-of-type {\n",
       "        vertical-align: middle;\n",
       "    }\n",
       "\n",
       "    .dataframe tbody tr th {\n",
       "        vertical-align: top;\n",
       "    }\n",
       "\n",
       "    .dataframe thead th {\n",
       "        text-align: right;\n",
       "    }\n",
       "</style>\n",
       "<table border=\"1\" class=\"dataframe\">\n",
       "  <thead>\n",
       "    <tr style=\"text-align: right;\">\n",
       "      <th></th>\n",
       "      <th>Restaurant</th>\n",
       "      <th>Reviewer</th>\n",
       "      <th>Review</th>\n",
       "      <th>Rating</th>\n",
       "      <th>Time</th>\n",
       "      <th>Pictures</th>\n",
       "      <th>N_reviews</th>\n",
       "      <th>Followers</th>\n",
       "      <th>Month</th>\n",
       "      <th>Year</th>\n",
       "      <th>Weekend</th>\n",
       "      <th>Post_Meal</th>\n",
       "    </tr>\n",
       "  </thead>\n",
       "  <tbody>\n",
       "    <tr>\n",
       "      <th>0</th>\n",
       "      <td>Beyond Flavours</td>\n",
       "      <td>Rusha Chakraborty</td>\n",
       "      <td>The ambience was good, food was quite good . had Saturday lunch , which was cost effective .\\r\\nGood place for a sate brunch. One can also chill with friends and or parents.\\r\\nWaiter Soumen Das was really courteous and helpful.</td>\n",
       "      <td>5.0</td>\n",
       "      <td>2019-05-25 15:54:00</td>\n",
       "      <td>0</td>\n",
       "      <td>1.0</td>\n",
       "      <td>2.0</td>\n",
       "      <td>5</td>\n",
       "      <td>2019</td>\n",
       "      <td>1</td>\n",
       "      <td>1</td>\n",
       "    </tr>\n",
       "    <tr>\n",
       "      <th>1</th>\n",
       "      <td>Beyond Flavours</td>\n",
       "      <td>Anusha Tirumalaneedi</td>\n",
       "      <td>Ambience is too good for a pleasant evening. Service is very prompt. Food is good. Over all a good experience. Soumen Das - kudos to the service</td>\n",
       "      <td>5.0</td>\n",
       "      <td>2019-05-25 14:20:00</td>\n",
       "      <td>0</td>\n",
       "      <td>3.0</td>\n",
       "      <td>2.0</td>\n",
       "      <td>5</td>\n",
       "      <td>2019</td>\n",
       "      <td>1</td>\n",
       "      <td>1</td>\n",
       "    </tr>\n",
       "    <tr>\n",
       "      <th>2</th>\n",
       "      <td>Beyond Flavours</td>\n",
       "      <td>Ashok Shekhawat</td>\n",
       "      <td>A must try.. great food great ambience. Thnx for the service by Pradeep and Subroto. My personal recommendation is Penne Alfredo Pasta:) ....... Also the music in the background is amazing.</td>\n",
       "      <td>5.0</td>\n",
       "      <td>2019-05-24 22:54:00</td>\n",
       "      <td>0</td>\n",
       "      <td>2.0</td>\n",
       "      <td>3.0</td>\n",
       "      <td>5</td>\n",
       "      <td>2019</td>\n",
       "      <td>0</td>\n",
       "      <td>1</td>\n",
       "    </tr>\n",
       "    <tr>\n",
       "      <th>3</th>\n",
       "      <td>Beyond Flavours</td>\n",
       "      <td>Swapnil Sarkar</td>\n",
       "      <td>Soumen das and Arun was a great guy. Only because of their behavior and sincerety, And good food off course, I would like to visit this place again.</td>\n",
       "      <td>5.0</td>\n",
       "      <td>2019-05-24 22:11:00</td>\n",
       "      <td>0</td>\n",
       "      <td>1.0</td>\n",
       "      <td>1.0</td>\n",
       "      <td>5</td>\n",
       "      <td>2019</td>\n",
       "      <td>0</td>\n",
       "      <td>1</td>\n",
       "    </tr>\n",
       "    <tr>\n",
       "      <th>4</th>\n",
       "      <td>Beyond Flavours</td>\n",
       "      <td>Dileep</td>\n",
       "      <td>Food is good.we ordered Kodi drumsticks and basket mutton biryani. All are good. Thanks to Pradeep. He served well. We enjoyed here. Ambience is also very good.</td>\n",
       "      <td>5.0</td>\n",
       "      <td>2019-05-24 21:37:00</td>\n",
       "      <td>0</td>\n",
       "      <td>3.0</td>\n",
       "      <td>2.0</td>\n",
       "      <td>5</td>\n",
       "      <td>2019</td>\n",
       "      <td>0</td>\n",
       "      <td>1</td>\n",
       "    </tr>\n",
       "  </tbody>\n",
       "</table>\n",
       "</div>"
      ],
      "text/plain": [
       "        Restaurant              Reviewer  \\\n",
       "0  Beyond Flavours     Rusha Chakraborty   \n",
       "1  Beyond Flavours  Anusha Tirumalaneedi   \n",
       "2  Beyond Flavours       Ashok Shekhawat   \n",
       "3  Beyond Flavours        Swapnil Sarkar   \n",
       "4  Beyond Flavours                Dileep   \n",
       "\n",
       "                                                                                                                                                                                                                                 Review  \\\n",
       "0  The ambience was good, food was quite good . had Saturday lunch , which was cost effective .\\r\\nGood place for a sate brunch. One can also chill with friends and or parents.\\r\\nWaiter Soumen Das was really courteous and helpful.   \n",
       "1                                                                                      Ambience is too good for a pleasant evening. Service is very prompt. Food is good. Over all a good experience. Soumen Das - kudos to the service   \n",
       "2                                         A must try.. great food great ambience. Thnx for the service by Pradeep and Subroto. My personal recommendation is Penne Alfredo Pasta:) ....... Also the music in the background is amazing.   \n",
       "3                                                                                  Soumen das and Arun was a great guy. Only because of their behavior and sincerety, And good food off course, I would like to visit this place again.   \n",
       "4                                                                      Food is good.we ordered Kodi drumsticks and basket mutton biryani. All are good. Thanks to Pradeep. He served well. We enjoyed here. Ambience is also very good.   \n",
       "\n",
       "   Rating                 Time  Pictures  N_reviews  Followers  Month  Year  \\\n",
       "0     5.0  2019-05-25 15:54:00         0        1.0        2.0      5  2019   \n",
       "1     5.0  2019-05-25 14:20:00         0        3.0        2.0      5  2019   \n",
       "2     5.0  2019-05-24 22:54:00         0        2.0        3.0      5  2019   \n",
       "3     5.0  2019-05-24 22:11:00         0        1.0        1.0      5  2019   \n",
       "4     5.0  2019-05-24 21:37:00         0        3.0        2.0      5  2019   \n",
       "\n",
       "   Weekend  Post_Meal  \n",
       "0        1          1  \n",
       "1        1          1  \n",
       "2        0          1  \n",
       "3        0          1  \n",
       "4        0          1  "
      ]
     },
     "execution_count": 22,
     "metadata": {},
     "output_type": "execute_result"
    }
   ],
   "source": [
    "reviews.head()"
   ]
  },
  {
   "cell_type": "code",
   "execution_count": 32,
   "metadata": {},
   "outputs": [
    {
     "data": {
      "image/png": "[encoded data removed]",
      "text/plain": [
       "<Figure size 1600x1200 with 6 Axes>"
      ]
     },
     "metadata": {},
     "output_type": "display_data"
    }
   ],
   "source": [
    "plot_histograms(reviews, ['Rating','Pictures','N_reviews','Followers','Month','Year'])"
   ]
  },
  {
   "cell_type": "code",
   "execution_count": 19,
   "metadata": {},
   "outputs": [
    {
     "data": {
      "text/plain": [
       "13410.0"
      ]
     },
     "execution_count": 19,
     "metadata": {},
     "output_type": "execute_result"
    }
   ],
   "source": [
    "np.max(reviews['Followers'])"
   ]
  },
  {
   "cell_type": "code",
   "execution_count": 20,
   "metadata": {},
   "outputs": [
    {
     "data": {
      "text/html": [
       "<div>\n",
       "<style scoped>\n",
       "    .dataframe tbody tr th:only-of-type {\n",
       "        vertical-align: middle;\n",
       "    }\n",
       "\n",
       "    .dataframe tbody tr th {\n",
       "        vertical-align: top;\n",
       "    }\n",
       "\n",
       "    .dataframe thead th {\n",
       "        text-align: right;\n",
       "    }\n",
       "</style>\n",
       "<table border=\"1\" class=\"dataframe\">\n",
       "  <thead>\n",
       "    <tr style=\"text-align: right;\">\n",
       "      <th></th>\n",
       "      <th>Restaurant</th>\n",
       "      <th>Reviewer</th>\n",
       "      <th>Review</th>\n",
       "      <th>Rating</th>\n",
       "      <th>Time</th>\n",
       "      <th>Pictures</th>\n",
       "      <th>N_reviews</th>\n",
       "      <th>Followers</th>\n",
       "      <th>Month</th>\n",
       "      <th>Year</th>\n",
       "      <th>Weekend</th>\n",
       "      <th>Post_Meal</th>\n",
       "    </tr>\n",
       "  </thead>\n",
       "  <tbody>\n",
       "    <tr>\n",
       "      <th>3927</th>\n",
       "      <td>Deli 9 Bistro</td>\n",
       "      <td>Satwinder Singh</td>\n",
       "      <td>Nice ambience, wonderful service but not so wonderful food.\\r\\nOrdered the Thai green curry, was just a watery mess, probably the worst ever had.\\r\\nKung Pao chicken was overly sweet, the noodles were just tossed around in a few eggs and probably 2 pieces of chicken.\\r\\nThe rice was very dry giving us an overall average experience.</td>\n",
       "      <td>2.0</td>\n",
       "      <td>2019-02-10 12:46:00</td>\n",
       "      <td>4</td>\n",
       "      <td>186.0</td>\n",
       "      <td>13410.0</td>\n",
       "      <td>2</td>\n",
       "      <td>2019</td>\n",
       "      <td>1</td>\n",
       "      <td>0</td>\n",
       "    </tr>\n",
       "    <tr>\n",
       "      <th>6592</th>\n",
       "      <td>Komatose - Holiday Inn Express &amp; Suites</td>\n",
       "      <td>Satwinder Singh</td>\n",
       "      <td>Well next to Jonathans Kitchen is this place to down a few.\\r\\nKomatose is a good crowd puller, with plenty of weekend party groups and people from nearby IT companies.\\r\\nThe team at the bar does a phenomenon job. Their interaction with guests is over the top, no wonder I heard of people visiting this place almost every day of the year.\\r\\n\\r\\nAlso, from my experience, this is one of those few places where the Sound Acoustics are so well designed that its loud yet comfortable. You will not come out with a sore throat.\\r\\n\\r\\nThe food comes from its sibling Jonathans Kitchen, so we know it can never go wrong. About the drinks, well what could go wrong with them ! ) and Oh ! did I mention the Cheese Chilli Toast.. Its Different.. Try it..\\r\\n\\r\\nThe outdoor cabanas can seat about 8 ~ 10 people each, wonderful for the evenings.\\r\\n\\r\\nGreat Music with shows on specific days of the week.\\r\\n\\r\\nDraft is served, but tends to vanish Quickly :) \\r\\n\\r\\nThis place is a full package.\\r\\n\\r\\nDrinks - Hic Hic\\r\\nFood - 5 / 5\\r\\nAmbiance - 4.5 / 5\\r\\nService - 5 / 5</td>\n",
       "      <td>5.0</td>\n",
       "      <td>2018-04-09 16:11:00</td>\n",
       "      <td>5</td>\n",
       "      <td>186.0</td>\n",
       "      <td>13410.0</td>\n",
       "      <td>4</td>\n",
       "      <td>2018</td>\n",
       "      <td>0</td>\n",
       "      <td>0</td>\n",
       "    </tr>\n",
       "    <tr>\n",
       "      <th>6876</th>\n",
       "      <td>The Tilt Bar Republic</td>\n",
       "      <td>Satwinder Singh</td>\n",
       "      <td>Nice place this.\\r\\nExcellent choice in Beers, probably amongst the best in Hyderabad.\\r\\nSober ambiance and good music\\r\\nWonderful mix of crowd and some okay dishes served up.\\r\\n\\r\\nWe tried the Egg Manchuria was pretty unique and then it was the Spicy Fried Idli was off beat\\r\\nThe Chicken tikka was standard\\r\\n\\r\\nA little spicy on your pocket, but what the heck a few beers don’t harm..\\r\\n\\r\\nAlthough the service could have been a little more prompt.\\r\\n\\r\\nSee the TILT in the Beer ;)  !!\\r\\n\\r\\nAmbiance : 3.5 / 5\\r\\nFood : 3 / 5\\r\\nBeer : 5 / 5\\r\\nService : 3.5 / 5</td>\n",
       "      <td>4.0</td>\n",
       "      <td>2018-11-15 11:54:00</td>\n",
       "      <td>3</td>\n",
       "      <td>186.0</td>\n",
       "      <td>13410.0</td>\n",
       "      <td>11</td>\n",
       "      <td>2018</td>\n",
       "      <td>0</td>\n",
       "      <td>0</td>\n",
       "    </tr>\n",
       "  </tbody>\n",
       "</table>\n",
       "</div>"
      ],
      "text/plain": [
       "                                   Restaurant         Reviewer  \\\n",
       "3927                            Deli 9 Bistro  Satwinder Singh   \n",
       "6592  Komatose - Holiday Inn Express & Suites  Satwinder Singh   \n",
       "6876                    The Tilt Bar Republic  Satwinder Singh   \n",
       "\n",
       "                                                                                                                                                                                                                                                                                                                                                                                                                                                                                                                                                                                                                                                                                                                                                                                                                                                                                                                                                                                                                                                                                                               Review  \\\n",
       "3927                                                                                                                                                                                                                                                                                                                                                                                                                                                                                                                                                                                                                                                                                                                                                                    Nice ambience, wonderful service but not so wonderful food.\\r\\nOrdered the Thai green curry, was just a watery mess, probably the worst ever had.\\r\\nKung Pao chicken was overly sweet, the noodles were just tossed around in a few eggs and probably 2 pieces of chicken.\\r\\nThe rice was very dry giving us an overall average experience.   \n",
       "6592  Well next to Jonathans Kitchen is this place to down a few.\\r\\nKomatose is a good crowd puller, with plenty of weekend party groups and people from nearby IT companies.\\r\\nThe team at the bar does a phenomenon job. Their interaction with guests is over the top, no wonder I heard of people visiting this place almost every day of the year.\\r\\n\\r\\nAlso, from my experience, this is one of those few places where the Sound Acoustics are so well designed that its loud yet comfortable. You will not come out with a sore throat.\\r\\n\\r\\nThe food comes from its sibling Jonathans Kitchen, so we know it can never go wrong. About the drinks, well what could go wrong with them ! ) and Oh ! did I mention the Cheese Chilli Toast.. Its Different.. Try it..\\r\\n\\r\\nThe outdoor cabanas can seat about 8 ~ 10 people each, wonderful for the evenings.\\r\\n\\r\\nGreat Music with shows on specific days of the week.\\r\\n\\r\\nDraft is served, but tends to vanish Quickly :) \\r\\n\\r\\nThis place is a full package.\\r\\n\\r\\nDrinks - Hic Hic\\r\\nFood - 5 / 5\\r\\nAmbiance - 4.5 / 5\\r\\nService - 5 / 5   \n",
       "6876                                                                                                                                                                                                                                                                                                                                                                                                                                                                                                               Nice place this.\\r\\nExcellent choice in Beers, probably amongst the best in Hyderabad.\\r\\nSober ambiance and good music\\r\\nWonderful mix of crowd and some okay dishes served up.\\r\\n\\r\\nWe tried the Egg Manchuria was pretty unique and then it was the Spicy Fried Idli was off beat\\r\\nThe Chicken tikka was standard\\r\\n\\r\\nA little spicy on your pocket, but what the heck a few beers don’t harm..\\r\\n\\r\\nAlthough the service could have been a little more prompt.\\r\\n\\r\\nSee the TILT in the Beer ;)  !!\\r\\n\\r\\nAmbiance : 3.5 / 5\\r\\nFood : 3 / 5\\r\\nBeer : 5 / 5\\r\\nService : 3.5 / 5   \n",
       "\n",
       "      Rating                 Time  Pictures  N_reviews  Followers  Month  \\\n",
       "3927     2.0  2019-02-10 12:46:00         4      186.0    13410.0      2   \n",
       "6592     5.0  2018-04-09 16:11:00         5      186.0    13410.0      4   \n",
       "6876     4.0  2018-11-15 11:54:00         3      186.0    13410.0     11   \n",
       "\n",
       "      Year  Weekend  Post_Meal  \n",
       "3927  2019        1          0  \n",
       "6592  2018        0          0  \n",
       "6876  2018        0          0  "
      ]
     },
     "execution_count": 20,
     "metadata": {},
     "output_type": "execute_result"
    }
   ],
   "source": [
    "reviews[reviews['Followers'] == 13410]"
   ]
  },
  {
   "cell_type": "markdown",
   "metadata": {},
   "source": [
    "Most reviewers dont have any followers, and the reviewer with most followers is Satwinder Singh, with 13410 followers."
   ]
  },
  {
   "cell_type": "code",
   "execution_count": 13,
   "metadata": {},
   "outputs": [
    {
     "name": "stdout",
     "output_type": "stream",
     "text": [
      "How many times a reviewer posted\n"
     ]
    },
    {
     "data": {
      "text/plain": [
       "Parijat Ray              13\n",
       "Ankita                   13\n",
       "Kiran                    12\n",
       "Vedant Killa             11\n",
       "Jay Mehta                11\n",
       "                         ..\n",
       "Manish Singh              1\n",
       "Kshitiz Goyal             1\n",
       "Deepali K. Nagrani        1\n",
       "Laxminarayana Amuraji     1\n",
       "Bhargava Krishna          1\n",
       "Name: Reviewer, Length: 7446, dtype: int64"
      ]
     },
     "execution_count": 13,
     "metadata": {},
     "output_type": "execute_result"
    }
   ],
   "source": [
    "print('How many times a reviewer posted')\n",
    "reviews['Reviewer'].value_counts().sort_values(ascending=False)"
   ]
  },
  {
   "cell_type": "code",
   "execution_count": 14,
   "metadata": {},
   "outputs": [
    {
     "name": "stdout",
     "output_type": "stream",
     "text": [
      "How many reviews each restaurant has\n"
     ]
    },
    {
     "data": {
      "text/plain": [
       "American Wild Wings                 77\n",
       "Arena Eleven                        85\n",
       "Behrouz Biryani                    100\n",
       "Over The Moon Brew Company         100\n",
       "The Fisherman's Wharf              100\n",
       "                                  ... \n",
       "Zega - Sheraton Hyderabad Hotel    100\n",
       "Triptify                           100\n",
       "Royal Spicy Restaurant             100\n",
       "Faasos                             100\n",
       "Gal Punjab Di                      100\n",
       "Name: Restaurant, Length: 100, dtype: int64"
      ]
     },
     "execution_count": 14,
     "metadata": {},
     "output_type": "execute_result"
    }
   ],
   "source": [
    "print('How many reviews each restaurant has')\n",
    "reviews['Restaurant'].value_counts().sort_values(ascending=True)"
   ]
  },
  {
   "cell_type": "code",
   "execution_count": 15,
   "metadata": {},
   "outputs": [
    {
     "data": {
      "text/plain": [
       "<Axes: >"
      ]
     },
     "execution_count": 15,
     "metadata": {},
     "output_type": "execute_result"
    },
    {
     "data": {
      "image/png": "[encoded data removed]",
      "text/plain": [
       "<Figure size 640x480 with 1 Axes>"
      ]
     },
     "metadata": {},
     "output_type": "display_data"
    }
   ],
   "source": [
    "reviews[reviews['Post_Meal'] == 1]['Rating'].hist()"
   ]
  },
  {
   "cell_type": "markdown",
   "metadata": {},
   "source": [
    "Das pessoas que enviaram review logo a seguir a refeição, maioria atribuiu rating the 5 (very good, very nice)"
   ]
  },
  {
   "cell_type": "code",
   "execution_count": 16,
   "metadata": {},
   "outputs": [
    {
     "name": "stderr",
     "output_type": "stream",
     "text": [
      "C:\\Users\\Marta\\AppData\\Local\\Temp\\ipykernel_6464\\1368241081.py:1: FutureWarning: The default value of numeric_only in DataFrameGroupBy.mean is deprecated. In a future version, numeric_only will default to False. Either specify numeric_only or select only columns which should be valid for the function.\n",
      "  reviews.groupby('Restaurant').mean()\n"
     ]
    },
    {
     "data": {
      "text/html": [
       "<div>\n",
       "<style scoped>\n",
       "    .dataframe tbody tr th:only-of-type {\n",
       "        vertical-align: middle;\n",
       "    }\n",
       "\n",
       "    .dataframe tbody tr th {\n",
       "        vertical-align: top;\n",
       "    }\n",
       "\n",
       "    .dataframe thead th {\n",
       "        text-align: right;\n",
       "    }\n",
       "</style>\n",
       "<table border=\"1\" class=\"dataframe\">\n",
       "  <thead>\n",
       "    <tr style=\"text-align: right;\">\n",
       "      <th></th>\n",
       "      <th>Rating</th>\n",
       "      <th>Pictures</th>\n",
       "      <th>N_reviews</th>\n",
       "      <th>Followers</th>\n",
       "      <th>Month</th>\n",
       "      <th>Year</th>\n",
       "      <th>Weekend</th>\n",
       "      <th>Post_Meal</th>\n",
       "    </tr>\n",
       "    <tr>\n",
       "      <th>Restaurant</th>\n",
       "      <th></th>\n",
       "      <th></th>\n",
       "      <th></th>\n",
       "      <th></th>\n",
       "      <th></th>\n",
       "      <th></th>\n",
       "      <th></th>\n",
       "      <th></th>\n",
       "    </tr>\n",
       "  </thead>\n",
       "  <tbody>\n",
       "    <tr>\n",
       "      <th>10 Downing Street</th>\n",
       "      <td>3.80</td>\n",
       "      <td>1.05</td>\n",
       "      <td>39.90</td>\n",
       "      <td>261.414894</td>\n",
       "      <td>5.60</td>\n",
       "      <td>2018.67</td>\n",
       "      <td>0.40</td>\n",
       "      <td>0.44</td>\n",
       "    </tr>\n",
       "    <tr>\n",
       "      <th>13 Dhaba</th>\n",
       "      <td>3.48</td>\n",
       "      <td>0.41</td>\n",
       "      <td>17.70</td>\n",
       "      <td>114.280000</td>\n",
       "      <td>6.82</td>\n",
       "      <td>2018.39</td>\n",
       "      <td>0.49</td>\n",
       "      <td>0.60</td>\n",
       "    </tr>\n",
       "    <tr>\n",
       "      <th>3B's - Buddies, Bar &amp; Barbecue</th>\n",
       "      <td>4.76</td>\n",
       "      <td>0.13</td>\n",
       "      <td>3.70</td>\n",
       "      <td>17.278351</td>\n",
       "      <td>4.68</td>\n",
       "      <td>2019.00</td>\n",
       "      <td>0.31</td>\n",
       "      <td>0.81</td>\n",
       "    </tr>\n",
       "    <tr>\n",
       "      <th>AB's - Absolute Barbecues</th>\n",
       "      <td>4.88</td>\n",
       "      <td>0.24</td>\n",
       "      <td>2.71</td>\n",
       "      <td>10.600000</td>\n",
       "      <td>5.00</td>\n",
       "      <td>2019.00</td>\n",
       "      <td>0.47</td>\n",
       "      <td>0.85</td>\n",
       "    </tr>\n",
       "    <tr>\n",
       "      <th>Absolute Sizzlers</th>\n",
       "      <td>3.62</td>\n",
       "      <td>0.45</td>\n",
       "      <td>11.67</td>\n",
       "      <td>225.369863</td>\n",
       "      <td>3.62</td>\n",
       "      <td>2019.00</td>\n",
       "      <td>0.34</td>\n",
       "      <td>0.53</td>\n",
       "    </tr>\n",
       "    <tr>\n",
       "      <th>...</th>\n",
       "      <td>...</td>\n",
       "      <td>...</td>\n",
       "      <td>...</td>\n",
       "      <td>...</td>\n",
       "      <td>...</td>\n",
       "      <td>...</td>\n",
       "      <td>...</td>\n",
       "      <td>...</td>\n",
       "    </tr>\n",
       "    <tr>\n",
       "      <th>Urban Asia - Kitchen &amp; Bar</th>\n",
       "      <td>3.65</td>\n",
       "      <td>1.78</td>\n",
       "      <td>39.34</td>\n",
       "      <td>209.021739</td>\n",
       "      <td>6.79</td>\n",
       "      <td>2018.44</td>\n",
       "      <td>0.28</td>\n",
       "      <td>0.55</td>\n",
       "    </tr>\n",
       "    <tr>\n",
       "      <th>Yum Yum Tree - The Arabian Food Court</th>\n",
       "      <td>3.56</td>\n",
       "      <td>1.29</td>\n",
       "      <td>19.84</td>\n",
       "      <td>131.845238</td>\n",
       "      <td>6.88</td>\n",
       "      <td>2018.30</td>\n",
       "      <td>0.40</td>\n",
       "      <td>0.45</td>\n",
       "    </tr>\n",
       "    <tr>\n",
       "      <th>Zega - Sheraton Hyderabad Hotel</th>\n",
       "      <td>4.45</td>\n",
       "      <td>0.83</td>\n",
       "      <td>27.38</td>\n",
       "      <td>351.841463</td>\n",
       "      <td>6.57</td>\n",
       "      <td>2018.22</td>\n",
       "      <td>0.23</td>\n",
       "      <td>0.45</td>\n",
       "    </tr>\n",
       "    <tr>\n",
       "      <th>Zing's Northeast Kitchen</th>\n",
       "      <td>3.65</td>\n",
       "      <td>1.21</td>\n",
       "      <td>35.63</td>\n",
       "      <td>295.031250</td>\n",
       "      <td>5.94</td>\n",
       "      <td>2018.63</td>\n",
       "      <td>0.41</td>\n",
       "      <td>0.50</td>\n",
       "    </tr>\n",
       "    <tr>\n",
       "      <th>eat.fit</th>\n",
       "      <td>3.20</td>\n",
       "      <td>0.58</td>\n",
       "      <td>27.01</td>\n",
       "      <td>251.973684</td>\n",
       "      <td>3.45</td>\n",
       "      <td>2019.00</td>\n",
       "      <td>0.34</td>\n",
       "      <td>0.50</td>\n",
       "    </tr>\n",
       "  </tbody>\n",
       "</table>\n",
       "<p>100 rows × 8 columns</p>\n",
       "</div>"
      ],
      "text/plain": [
       "                                       Rating  Pictures  N_reviews  \\\n",
       "Restaurant                                                           \n",
       "10 Downing Street                        3.80      1.05      39.90   \n",
       "13 Dhaba                                 3.48      0.41      17.70   \n",
       "3B's - Buddies, Bar & Barbecue           4.76      0.13       3.70   \n",
       "AB's - Absolute Barbecues                4.88      0.24       2.71   \n",
       "Absolute Sizzlers                        3.62      0.45      11.67   \n",
       "...                                       ...       ...        ...   \n",
       "Urban Asia - Kitchen & Bar               3.65      1.78      39.34   \n",
       "Yum Yum Tree - The Arabian Food Court    3.56      1.29      19.84   \n",
       "Zega - Sheraton Hyderabad Hotel          4.45      0.83      27.38   \n",
       "Zing's Northeast Kitchen                 3.65      1.21      35.63   \n",
       "eat.fit                                  3.20      0.58      27.01   \n",
       "\n",
       "                                        Followers  Month     Year  Weekend  \\\n",
       "Restaurant                                                                   \n",
       "10 Downing Street                      261.414894   5.60  2018.67     0.40   \n",
       "13 Dhaba                               114.280000   6.82  2018.39     0.49   \n",
       "3B's - Buddies, Bar & Barbecue          17.278351   4.68  2019.00     0.31   \n",
       "AB's - Absolute Barbecues               10.600000   5.00  2019.00     0.47   \n",
       "Absolute Sizzlers                      225.369863   3.62  2019.00     0.34   \n",
       "...                                           ...    ...      ...      ...   \n",
       "Urban Asia - Kitchen & Bar             209.021739   6.79  2018.44     0.28   \n",
       "Yum Yum Tree - The Arabian Food Court  131.845238   6.88  2018.30     0.40   \n",
       "Zega - Sheraton Hyderabad Hotel        351.841463   6.57  2018.22     0.23   \n",
       "Zing's Northeast Kitchen               295.031250   5.94  2018.63     0.41   \n",
       "eat.fit                                251.973684   3.45  2019.00     0.34   \n",
       "\n",
       "                                       Post_Meal  \n",
       "Restaurant                                        \n",
       "10 Downing Street                           0.44  \n",
       "13 Dhaba                                    0.60  \n",
       "3B's - Buddies, Bar & Barbecue              0.81  \n",
       "AB's - Absolute Barbecues                   0.85  \n",
       "Absolute Sizzlers                           0.53  \n",
       "...                                          ...  \n",
       "Urban Asia - Kitchen & Bar                  0.55  \n",
       "Yum Yum Tree - The Arabian Food Court       0.45  \n",
       "Zega - Sheraton Hyderabad Hotel             0.45  \n",
       "Zing's Northeast Kitchen                    0.50  \n",
       "eat.fit                                     0.50  \n",
       "\n",
       "[100 rows x 8 columns]"
      ]
     },
     "execution_count": 16,
     "metadata": {},
     "output_type": "execute_result"
    }
   ],
   "source": [
    "reviews.groupby('Restaurant').mean()"
   ]
  },
  {
   "cell_type": "markdown",
   "metadata": {},
   "source": [
    "See if a reviewer has given more than one review to the same restaurant."
   ]
  },
  {
   "cell_type": "code",
   "execution_count": 33,
   "metadata": {},
   "outputs": [
    {
     "data": {
      "text/html": [
       "<div>\n",
       "<style scoped>\n",
       "    .dataframe tbody tr th:only-of-type {\n",
       "        vertical-align: middle;\n",
       "    }\n",
       "\n",
       "    .dataframe tbody tr th {\n",
       "        vertical-align: top;\n",
       "    }\n",
       "\n",
       "    .dataframe thead th {\n",
       "        text-align: right;\n",
       "    }\n",
       "</style>\n",
       "<table border=\"1\" class=\"dataframe\">\n",
       "  <thead>\n",
       "    <tr style=\"text-align: right;\">\n",
       "      <th></th>\n",
       "      <th>Reviewer</th>\n",
       "      <th>Restaurant</th>\n",
       "      <th>review_count</th>\n",
       "    </tr>\n",
       "  </thead>\n",
       "  <tbody>\n",
       "    <tr>\n",
       "      <th>12</th>\n",
       "      <td>ABDUL MAJEED</td>\n",
       "      <td>Hyderabadi Daawat</td>\n",
       "      <td>3</td>\n",
       "    </tr>\n",
       "    <tr>\n",
       "      <th>170</th>\n",
       "      <td>Abhinav Sinha</td>\n",
       "      <td>Green Bawarchi Restaurant</td>\n",
       "      <td>2</td>\n",
       "    </tr>\n",
       "    <tr>\n",
       "      <th>226</th>\n",
       "      <td>Abhishek Pradhan</td>\n",
       "      <td>GD's</td>\n",
       "      <td>2</td>\n",
       "    </tr>\n",
       "    <tr>\n",
       "      <th>352</th>\n",
       "      <td>Afreen Jahan</td>\n",
       "      <td>eat.fit</td>\n",
       "      <td>6</td>\n",
       "    </tr>\n",
       "    <tr>\n",
       "      <th>420</th>\n",
       "      <td>Ajay Tanti</td>\n",
       "      <td>Green Bawarchi Restaurant</td>\n",
       "      <td>2</td>\n",
       "    </tr>\n",
       "    <tr>\n",
       "      <th>...</th>\n",
       "      <td>...</td>\n",
       "      <td>...</td>\n",
       "      <td>...</td>\n",
       "    </tr>\n",
       "    <tr>\n",
       "      <th>9321</th>\n",
       "      <td>Venkat</td>\n",
       "      <td>Hotel Zara Hi-Fi</td>\n",
       "      <td>3</td>\n",
       "    </tr>\n",
       "    <tr>\n",
       "      <th>9422</th>\n",
       "      <td>Vignesh</td>\n",
       "      <td>Green Bawarchi Restaurant</td>\n",
       "      <td>2</td>\n",
       "    </tr>\n",
       "    <tr>\n",
       "      <th>9719</th>\n",
       "      <td>Yasaswi Kaza</td>\n",
       "      <td>Triptify</td>\n",
       "      <td>2</td>\n",
       "    </tr>\n",
       "    <tr>\n",
       "      <th>9738</th>\n",
       "      <td>Yashasvi Rao</td>\n",
       "      <td>Sardarji's Chaats &amp; More</td>\n",
       "      <td>2</td>\n",
       "    </tr>\n",
       "    <tr>\n",
       "      <th>9786</th>\n",
       "      <td>Yugandhar</td>\n",
       "      <td>Cream Stone</td>\n",
       "      <td>2</td>\n",
       "    </tr>\n",
       "  </tbody>\n",
       "</table>\n",
       "<p>95 rows × 3 columns</p>\n",
       "</div>"
      ],
      "text/plain": [
       "              Reviewer                 Restaurant  review_count\n",
       "12        ABDUL MAJEED          Hyderabadi Daawat             3\n",
       "170      Abhinav Sinha  Green Bawarchi Restaurant             2\n",
       "226   Abhishek Pradhan                       GD's             2\n",
       "352       Afreen Jahan                    eat.fit             6\n",
       "420         Ajay Tanti  Green Bawarchi Restaurant             2\n",
       "...                ...                        ...           ...\n",
       "9321            Venkat           Hotel Zara Hi-Fi             3\n",
       "9422           Vignesh  Green Bawarchi Restaurant             2\n",
       "9719      Yasaswi Kaza                   Triptify             2\n",
       "9738      Yashasvi Rao   Sardarji's Chaats & More             2\n",
       "9786         Yugandhar                Cream Stone             2\n",
       "\n",
       "[95 rows x 3 columns]"
      ]
     },
     "execution_count": 33,
     "metadata": {},
     "output_type": "execute_result"
    }
   ],
   "source": [
    "review_counts = reviews.groupby(['Reviewer', 'Restaurant']).size().reset_index(name='review_count')\n",
    "\n",
    "# Filter where review_count is greater than 1\n",
    "multiple_reviews = review_counts[review_counts['review_count'] > 1]\n",
    "#multiple_reviews_details = pd.merge(reviews, multiple_reviews, on=['Reviewer', 'Restaurant'])\n",
    "\n",
    "multiple_reviews"
   ]
  },
  {
   "cell_type": "code",
   "execution_count": null,
   "metadata": {},
   "outputs": [],
   "source": []
  }
 ],
 "metadata": {
  "kernelspec": {
   "display_name": "tm",
   "language": "python",
   "name": "python3"
  },
  "language_info": {
   "codemirror_mode": {
    "name": "ipython",
    "version": 3
   },
   "file_extension": ".py",
   "mimetype": "text/x-python",
   "name": "python",
   "nbconvert_exporter": "python",
   "pygments_lexer": "ipython3",
   "version": "3.10.9"
  }
 },
 "nbformat": 4,
 "nbformat_minor": 2
}
