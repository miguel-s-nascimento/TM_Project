{
 "cells": [
  {
   "cell_type": "markdown",
   "metadata": {},
   "source": [
    "<i>## Comments will be provided using this format. Key takeaway: groups are encouraged to change the formatting, but not the structure. Groups are also allowed to create additional notebooks - for instance, create one notebook for data exploration, and one notebook for each preprocessing-modelling-evaluation pipeline -, but must strive to keep an unified style across notebooks.</i>\n",
    "\n",
    "#### NOVA IMS / BSc in Data Science / Text Mining 2024/2025\n",
    "### <b>Group Project: \"Solving the Hyderabadi Word Soup\"</b>\n",
    "#### Notebook `Notebook Title`\n",
    "\n",
    "#### Group:\n",
    "- `Group member #1`\n",
    "- `(...)`\n",
    "- `Group member #5`\n",
    "\n",
    "#### <font color='#BFD72'>Table of Contents </font> <a class=\"anchor\" id='toc'></a> \n",
    "- [1. Data Understanding](#P1)\n",
    "- [2. General Data Preparation](#P2) \n",
    "- [3. Multilabel Classification (Information Requirement 3311)](#P3)\n",
    "    - [3.1 Specific Data Preparation](#P31)\n",
    "    - [3.2 Model Implementation](#P32)\n",
    "    - [3.3 Model Evaluation](#P3n)\n",
    "- [4. Sentiment Analysis (Information Requirement 3312)](#P4)\n",
    "    - [4.1 Specific Data Preparation](#P41)\n",
    "    - [4.2 Model Implementation](#P42)\n",
    "    - [4.3 Model Evaluation](#P43)\n",
    "- [...]\n",
    "- [N. Additional Tasks (Information Requirements 332n)](#Pn)\n",
    "    - [N.1 Specific Data Preparation](#Pn1)\n",
    "    - [N.2 Model Implementation](#Pn2)\n",
    "    - [N.3 Model Evaluation](#Pn3)\n",
    "\n",
    "<i>## Note that the notebook structure differs from the report: instead of following the CRISP-DM phases and then specifying the different problems inside the phases, the notebook is structured by problem, with the CRISP-DM phases being defined for each specific problem."
   ]
  },
  {
   "cell_type": "code",
   "execution_count": null,
   "metadata": {},
   "outputs": [],
   "source": [
    "## All imports must be concentrated on a cell that immediately follow the table of contents\n",
    "import math\n",
    "import time\n",
    "import re\n",
    "import pandas as pd\n",
    "import matplotlib.pyplot as plt\n",
    "from nltk.tokenize import sent_tokenize\n",
    "from nltk.tokenize import PunktSentenceTokenizer\n",
    "sent_tokenizer = PunktSentenceTokenizer()\n",
    "\n",
    "#without truncation\n",
    "pd.set_option('display.max_colwidth', None)"
   ]
  },
  {
   "cell_type": "markdown",
   "metadata": {},
   "source": [
    "<font color='#BFD72F' size=5>1. Data Understanding</font> <a class=\"anchor\" id=\"P1\"></a>\n",
    "  \n",
    "[Back to TOC](#toc)\n",
    "\n",
    "<i>## Imports.</i>"
   ]
  },
  {
   "cell_type": "code",
   "execution_count": 36,
   "metadata": {},
   "outputs": [],
   "source": [
    "reviews=pd.read_csv('data/reviews.csv')\n",
    "restaurants=pd.read_csv('data/restaurants.csv') \n",
    "restaurants = restaurants.drop(columns=['Links'])"
   ]
  },
  {
   "cell_type": "markdown",
   "metadata": {},
   "source": [
    "## Restaurant data initial preprocessing\n"
   ]
  },
  {
   "cell_type": "code",
   "execution_count": 37,
   "metadata": {},
   "outputs": [],
   "source": [
    "#Turning collunm cost to int\n",
    "restaurants['Cost'] = restaurants['Cost'].str.replace(',', '').astype(int)"
   ]
  },
  {
   "cell_type": "markdown",
   "metadata": {},
   "source": [
    "### solving null value in  timming\n"
   ]
  },
  {
   "cell_type": "code",
   "execution_count": 38,
   "metadata": {},
   "outputs": [],
   "source": [
    "restaurants[restaurants['Timings'].isnull()] #there is a missing value in timings\n",
    "#After visiting zomato website we took the timetable of this restaurant\n",
    "restaurants.loc[restaurants['Timings'].isnull(), 'Timings'] = '12AM to 3:30pm, 7pm to 11pm (Mon-Sun)'"
   ]
  },
  {
   "cell_type": "code",
   "execution_count": 39,
   "metadata": {},
   "outputs": [],
   "source": [
    "# Putting this 2 collumns in a list\n",
    "restaurants['Collections'] = restaurants['Collections'].str.replace(r',\\s+', ',', regex=True).str.split(',')\n",
    "restaurants['Cuisines']=restaurants['Cuisines'].str.replace(r',\\s+', ',', regex=True).str.split(',')"
   ]
  },
  {
   "cell_type": "code",
   "execution_count": 40,
   "metadata": {},
   "outputs": [],
   "source": [
    "restaurants['N_collections'] = restaurants['Collections'].apply(lambda x: len(x) if type(x)==list else 0)"
   ]
  },
  {
   "cell_type": "code",
   "execution_count": 41,
   "metadata": {},
   "outputs": [],
   "source": [
    "def capture_open_close_times(numbers_list):\n",
    "    result = []\n",
    "    for string in numbers_list:\n",
    "        # Find all numbers in the string\n",
    "        numbers = re.findall(r'\\d+', string)\n",
    "        if numbers:   \n",
    "            # Capture the first (opening time) and determine closing time\n",
    "            opening_time = numbers[0]\n",
    "            if numbers[-1] in ('15', '30', '40'):\n",
    "                closing_time = numbers[-2] if len(numbers) > 1 else None  # Use second-to-last if available\n",
    "            else:\n",
    "                closing_time = numbers[-1]  # Use last if not 15, 30, or 40\n",
    "\n",
    "            # Transform closing time if it's 10, 11, or 12\n",
    "            if closing_time == '10':\n",
    "                closing_time = '22'\n",
    "            elif closing_time == '11':\n",
    "                closing_time = '23'\n",
    "            elif closing_time == '12':\n",
    "                closing_time = '24'\n",
    "\n",
    "            # Transform opening time if it's 12, 1, 4, or 5\n",
    "            elif opening_time == '1':\n",
    "                opening_time = '13'\n",
    "            elif opening_time == '4':\n",
    "                opening_time = '16'\n",
    "            elif opening_time == '5':\n",
    "                opening_time = '17'\n",
    "\n",
    "            # Append the transformed opening and closing times to the result\n",
    "            result.append((opening_time, closing_time))\n",
    "\n",
    "    return result\n",
    "\n",
    "# Get a list of tuples (opening time, closing time)\n",
    "open_close_times = capture_open_close_times(restaurants['Timings'])\n",
    "\n",
    "# Unpack opening and closing times into separate lists\n",
    "opening_times = [time[0] for time in open_close_times]\n",
    "closing_times = [time[1] for time in open_close_times]\n",
    "\n",
    "# Assign the lists to new columns in the DataFrame\n",
    "restaurants['open time'] = opening_times\n",
    "restaurants['closing time'] = closing_times\n",
    "restaurants.drop('Timings', axis=1, inplace=True)"
   ]
  },
  {
   "cell_type": "markdown",
   "metadata": {},
   "source": [
    "## reviews data initial preprocessing"
   ]
  },
  {
   "cell_type": "code",
   "execution_count": 42,
   "metadata": {},
   "outputs": [],
   "source": [
    "reviews.drop_duplicates(inplace=True)"
   ]
  },
  {
   "cell_type": "code",
   "execution_count": 43,
   "metadata": {},
   "outputs": [
    {
     "data": {
      "text/html": [
       "<div>\n",
       "<style scoped>\n",
       "    .dataframe tbody tr th:only-of-type {\n",
       "        vertical-align: middle;\n",
       "    }\n",
       "\n",
       "    .dataframe tbody tr th {\n",
       "        vertical-align: top;\n",
       "    }\n",
       "\n",
       "    .dataframe thead th {\n",
       "        text-align: right;\n",
       "    }\n",
       "</style>\n",
       "<table border=\"1\" class=\"dataframe\">\n",
       "  <thead>\n",
       "    <tr style=\"text-align: right;\">\n",
       "      <th></th>\n",
       "      <th>Restaurant</th>\n",
       "      <th>Reviewer</th>\n",
       "      <th>Review</th>\n",
       "      <th>Rating</th>\n",
       "      <th>Metadata</th>\n",
       "      <th>Time</th>\n",
       "      <th>Pictures</th>\n",
       "    </tr>\n",
       "  </thead>\n",
       "  <tbody>\n",
       "    <tr>\n",
       "      <th>2360</th>\n",
       "      <td>Amul</td>\n",
       "      <td>Lakshmi Narayana</td>\n",
       "      <td>NaN</td>\n",
       "      <td>5</td>\n",
       "      <td>0 Reviews</td>\n",
       "      <td>7/29/2018 18:00</td>\n",
       "      <td>0</td>\n",
       "    </tr>\n",
       "    <tr>\n",
       "      <th>5799</th>\n",
       "      <td>Being Hungry</td>\n",
       "      <td>Surya</td>\n",
       "      <td>NaN</td>\n",
       "      <td>5</td>\n",
       "      <td>4 Reviews , 4 Followers</td>\n",
       "      <td>7/19/2018 23:55</td>\n",
       "      <td>0</td>\n",
       "    </tr>\n",
       "    <tr>\n",
       "      <th>6449</th>\n",
       "      <td>Hyderabad Chefs</td>\n",
       "      <td>Madhurimanne97</td>\n",
       "      <td>NaN</td>\n",
       "      <td>5</td>\n",
       "      <td>1 Review</td>\n",
       "      <td>7/23/2018 16:29</td>\n",
       "      <td>0</td>\n",
       "    </tr>\n",
       "    <tr>\n",
       "      <th>6489</th>\n",
       "      <td>Hyderabad Chefs</td>\n",
       "      <td>Harsha</td>\n",
       "      <td>NaN</td>\n",
       "      <td>5</td>\n",
       "      <td>1 Review</td>\n",
       "      <td>7/8/2018 21:19</td>\n",
       "      <td>0</td>\n",
       "    </tr>\n",
       "    <tr>\n",
       "      <th>7954</th>\n",
       "      <td>Olive Garden</td>\n",
       "      <td>ARUGULLA PRAVEEN KUMAR</td>\n",
       "      <td>NaN</td>\n",
       "      <td>3</td>\n",
       "      <td>1 Review , 1 Follower</td>\n",
       "      <td>8/9/2018 23:25</td>\n",
       "      <td>0</td>\n",
       "    </tr>\n",
       "    <tr>\n",
       "      <th>8228</th>\n",
       "      <td>Al Saba Restaurant</td>\n",
       "      <td>Suresh</td>\n",
       "      <td>NaN</td>\n",
       "      <td>5</td>\n",
       "      <td>1 Review</td>\n",
       "      <td>7/20/2018 22:42</td>\n",
       "      <td>0</td>\n",
       "    </tr>\n",
       "    <tr>\n",
       "      <th>8777</th>\n",
       "      <td>American Wild Wings</td>\n",
       "      <td>NaN</td>\n",
       "      <td>NaN</td>\n",
       "      <td>NaN</td>\n",
       "      <td>NaN</td>\n",
       "      <td>NaN</td>\n",
       "      <td>0</td>\n",
       "    </tr>\n",
       "    <tr>\n",
       "      <th>8844</th>\n",
       "      <td>Domino's Pizza</td>\n",
       "      <td>Sayan Gupta</td>\n",
       "      <td>NaN</td>\n",
       "      <td>5</td>\n",
       "      <td>2 Reviews , 2 Followers</td>\n",
       "      <td>8/9/2018 21:41</td>\n",
       "      <td>0</td>\n",
       "    </tr>\n",
       "    <tr>\n",
       "      <th>9085</th>\n",
       "      <td>Arena Eleven</td>\n",
       "      <td>NaN</td>\n",
       "      <td>NaN</td>\n",
       "      <td>NaN</td>\n",
       "      <td>NaN</td>\n",
       "      <td>NaN</td>\n",
       "      <td>0</td>\n",
       "    </tr>\n",
       "  </tbody>\n",
       "</table>\n",
       "</div>"
      ],
      "text/plain": [
       "               Restaurant                Reviewer Review Rating  \\\n",
       "2360                 Amul        Lakshmi Narayana    NaN      5   \n",
       "5799         Being Hungry                   Surya    NaN      5   \n",
       "6449      Hyderabad Chefs          Madhurimanne97    NaN      5   \n",
       "6489      Hyderabad Chefs                  Harsha    NaN      5   \n",
       "7954         Olive Garden  ARUGULLA PRAVEEN KUMAR    NaN      3   \n",
       "8228   Al Saba Restaurant                  Suresh    NaN      5   \n",
       "8777  American Wild Wings                     NaN    NaN    NaN   \n",
       "8844       Domino's Pizza             Sayan Gupta    NaN      5   \n",
       "9085         Arena Eleven                     NaN    NaN    NaN   \n",
       "\n",
       "                     Metadata             Time  Pictures  \n",
       "2360                0 Reviews  7/29/2018 18:00         0  \n",
       "5799  4 Reviews , 4 Followers  7/19/2018 23:55         0  \n",
       "6449                 1 Review  7/23/2018 16:29         0  \n",
       "6489                 1 Review   7/8/2018 21:19         0  \n",
       "7954    1 Review , 1 Follower   8/9/2018 23:25         0  \n",
       "8228                 1 Review  7/20/2018 22:42         0  \n",
       "8777                      NaN              NaN         0  \n",
       "8844  2 Reviews , 2 Followers   8/9/2018 21:41         0  \n",
       "9085                      NaN              NaN         0  "
      ]
     },
     "execution_count": 43,
     "metadata": {},
     "output_type": "execute_result"
    }
   ],
   "source": [
    "reviews[reviews.isna().any(axis=1)]"
   ]
  },
  {
   "cell_type": "code",
   "execution_count": 44,
   "metadata": {},
   "outputs": [],
   "source": [
    "reviews.drop([8777, 9085], axis=0, inplace=True)"
   ]
  },
  {
   "cell_type": "code",
   "execution_count": 45,
   "metadata": {},
   "outputs": [
    {
     "data": {
      "text/plain": [
       "5       3832\n",
       "4       2373\n",
       "1       1735\n",
       "3       1193\n",
       "2        684\n",
       "4.5       69\n",
       "3.5       47\n",
       "2.5       19\n",
       "1.5        9\n",
       "Like       1\n",
       "Name: Rating, dtype: int64"
      ]
     },
     "execution_count": 45,
     "metadata": {},
     "output_type": "execute_result"
    }
   ],
   "source": [
    "reviews.Rating.value_counts()"
   ]
  },
  {
   "cell_type": "code",
   "execution_count": 46,
   "metadata": {},
   "outputs": [
    {
     "data": {
      "text/html": [
       "<div>\n",
       "<style scoped>\n",
       "    .dataframe tbody tr th:only-of-type {\n",
       "        vertical-align: middle;\n",
       "    }\n",
       "\n",
       "    .dataframe tbody tr th {\n",
       "        vertical-align: top;\n",
       "    }\n",
       "\n",
       "    .dataframe thead th {\n",
       "        text-align: right;\n",
       "    }\n",
       "</style>\n",
       "<table border=\"1\" class=\"dataframe\">\n",
       "  <thead>\n",
       "    <tr style=\"text-align: right;\">\n",
       "      <th></th>\n",
       "      <th>Restaurant</th>\n",
       "      <th>Reviewer</th>\n",
       "      <th>Review</th>\n",
       "      <th>Rating</th>\n",
       "      <th>Metadata</th>\n",
       "      <th>Time</th>\n",
       "      <th>Pictures</th>\n",
       "    </tr>\n",
       "  </thead>\n",
       "  <tbody>\n",
       "    <tr>\n",
       "      <th>7601</th>\n",
       "      <td>The Old Madras Baking Company</td>\n",
       "      <td>Dhanasekar Kannan</td>\n",
       "      <td>One of the best pizzas to try. It served with the fresh crust and the topping of veggies are fresh and the taste of the ingredients was awesome and it is fully overloaded with Cheese. I would like to recommend to try every Time I wager for pizza</td>\n",
       "      <td>Like</td>\n",
       "      <td>12 Reviews , 21 Followers</td>\n",
       "      <td>5/18/2019 12:31</td>\n",
       "      <td>1</td>\n",
       "    </tr>\n",
       "  </tbody>\n",
       "</table>\n",
       "</div>"
      ],
      "text/plain": [
       "                         Restaurant           Reviewer  \\\n",
       "7601  The Old Madras Baking Company  Dhanasekar Kannan   \n",
       "\n",
       "                                                                                                                                                                                                                                                     Review  \\\n",
       "7601  One of the best pizzas to try. It served with the fresh crust and the topping of veggies are fresh and the taste of the ingredients was awesome and it is fully overloaded with Cheese. I would like to recommend to try every Time I wager for pizza   \n",
       "\n",
       "     Rating                   Metadata             Time  Pictures  \n",
       "7601   Like  12 Reviews , 21 Followers  5/18/2019 12:31         1  "
      ]
     },
     "execution_count": 46,
     "metadata": {},
     "output_type": "execute_result"
    }
   ],
   "source": [
    "reviews[reviews['Rating']=='Like']"
   ]
  },
  {
   "cell_type": "code",
   "execution_count": 47,
   "metadata": {},
   "outputs": [],
   "source": [
    "reviews.at[7601, 'Rating'] = 5"
   ]
  },
  {
   "cell_type": "code",
   "execution_count": 48,
   "metadata": {},
   "outputs": [],
   "source": [
    "reviews['Rating'] = reviews['Rating'].astype(float)"
   ]
  },
  {
   "cell_type": "code",
   "execution_count": 49,
   "metadata": {},
   "outputs": [],
   "source": [
    "# Extract the number of reviews, followers\n",
    "reviews['N_reviews'] = reviews['Metadata'].str.extract(r'(\\d+)\\s+Review')\n",
    "reviews['Followers'] = reviews['Metadata'].str.extract(r'(\\d+)\\s+Follower')\n",
    "\n",
    "reviews['N_reviews'] = reviews['N_reviews'].astype('Int64')\n",
    "reviews['Followers'] = reviews['Followers'].astype('Int64')\n",
    "reviews=reviews.drop('Metadata', axis=1)"
   ]
  },
  {
   "cell_type": "code",
   "execution_count": 50,
   "metadata": {},
   "outputs": [],
   "source": [
    "reviews['Time'] = pd.to_datetime(reviews['Time'])\n",
    "\n",
    "reviews['Month'] = reviews['Time'].dt.month.astype(int)\n",
    "reviews['Year'] = reviews['Time'].dt.year.astype(int)\n",
    "\n",
    "reviews['Weekend'] = reviews['Time'].dt.weekday.apply(lambda x: 1 if x >= 5 else 0)"
   ]
  },
  {
   "cell_type": "code",
   "execution_count": 51,
   "metadata": {},
   "outputs": [],
   "source": [
    "reviews['Hour'] = reviews['Time'].dt.hour\n",
    "\n",
    "# Create the 'Post_Meal' column based on the hour ranges for lunch and dinner\n",
    "# Lunch: 13-15, Dinner: 20-23\n",
    "reviews['Post_Meal'] = reviews['Hour'].apply(lambda x: 1 if (13 <= x <= 15) or (20 <= x <= 23) else 0)\n",
    "reviews.drop('Hour', axis=1, inplace=True)"
   ]
  },
  {
   "cell_type": "code",
   "execution_count": null,
   "metadata": {},
   "outputs": [],
   "source": [
    "reviews[\"msg_len\"] = reviews[\"Review\"].map(lambda content : len(str(content)))\n",
    "reviews[\"sents\"] = reviews[\"Review\"].map(lambda content :sent_tokenizer.tokenize(str(content)))\n",
    "reviews[\"nr_sents\"] = reviews[\"sents\"].map(lambda content : len(content))"
   ]
  },
  {
   "cell_type": "code",
   "execution_count": 54,
   "metadata": {},
   "outputs": [],
   "source": [
    "#restaurants.to_csv('data/restaurants_initial_preproc.csv', index=False)\n",
    "#reviews.to_csv('data/reviews_initial_preproc.csv', index=False)"
   ]
  }
 ],
 "metadata": {
  "kernelspec": {
   "display_name": "tm",
   "language": "python",
   "name": "python3"
  },
  "language_info": {
   "codemirror_mode": {
    "name": "ipython",
    "version": 3
   },
   "file_extension": ".py",
   "mimetype": "text/x-python",
   "name": "python",
   "nbconvert_exporter": "python",
   "pygments_lexer": "ipython3",
   "version": "3.10.9"
  }
 },
 "nbformat": 4,
 "nbformat_minor": 2
}
